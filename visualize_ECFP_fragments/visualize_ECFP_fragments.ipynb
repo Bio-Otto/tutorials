{
  "cells": [
    {
      "cell_type": "heading",
      "metadata": {
        "collapsed": true,
        "pycharm": {}
      },
      "level": 1,
      "source": [
        "Create and Visualize Fragments like in ECFP Fingerprints"
      ]
    },
    {
      "cell_type": "markdown",
      "metadata": {
        "pycharm": {}
      },
      "source": "ECFP (extended connectivity fingerprints) aka circular fingerprints, are built by applying the Morgan algorithm to a set of user-supplied atom invariants. In this tutorial we will generate fragments of a macrocyclic and a non-macrocyclic molecule of similar size and compare them.\n\n When generating Morgan fingerprints, the radius of the fingerprint(must also be provided :"
    },
    {
      "cell_type": "code",
      "execution_count": 29,
      "metadata": {
        "pycharm": {}
      },
      "outputs": [],
      "source": [
        "from rdkit import Chem, DataStructs\n",
        "from rdkit.Chem import AllChem, Draw, rdDepictor #, rdCoordGen # rdCoordGen requires Python 3.7\n",
        "from IPython.display import display, HTML\n",
        "import pandas as pd\n",
        "import os\n",
        "\n",
        "# The first canonical SMILES corresponds to macrocyclic compound BACE_149 from D3R GC2018\n",
        "# The following two SMILES correspond to non-macrocyclic compounds\n",
        "smiles \u003d [\u0027CCCCNC(\u003dO)[C@H](C)C[C@H](O)[C@@H]1C[C@H](C)CCCCCCC[C@H](NC(\u003dO)OC(C)(C)C)C(\u003dO)N[C@@H](C)C(\u003dO)N1\u0027,\n",
        "          \u0027CCCCNC(\u003dO)C(C)CC(C(CC1CCCCC1)NC(\u003dO)C(C(C)C)NC(\u003dO)CNC(\u003dO)OC(C)(C)C)O\u0027,\n",
        "          \u0027CC(C)C(C(\u003dO)NC(C(C)C)C(\u003dO)OC)NC(\u003dO)CCC(C(CC1CCCCC1)NC(\u003dO)C(C)NC(\u003dO)C(C)N)O\u0027\n",
        "          ]\n",
        "ids \u003d [\u0027BACE_149\u0027, \u0027mol2\u0027, \u0027mol3\u0027]\n",
        "df \u003d pd.DataFrame({\u0027mol\u0027: [Chem.MolFromSmiles(x) for x in smiles]}, index\u003dids)\n"
      ]
    },
    {
      "cell_type": "markdown",
      "metadata": {
        "pycharm": {}
      },
      "source": [
        "Lets visualize these 3 molecules."
      ]
    },
    {
      "cell_type": "code",
      "execution_count": 30,
      "metadata": {
        "pycharm": {}
      },
      "outputs": [
        {
          "name": "stdout",
          "output_type": "stream",
          "text": [
            "/home2/thomas/Documents/tutorials/Multilayer_Perceptron_Keras\n"
          ]
        },
        {
          "ename": "IOError",
          "evalue": "[Errno 2] No such file or directory: \u0027images/gridmol.png\u0027",
          "traceback": [
            "\u001b[0;31m\u001b[0m",
            "\u001b[0;31mIOError\u001b[0mTraceback (most recent call last)",
            "\u001b[0;32m\u003cipython-input-30-febc8a8e8909\u003e\u001b[0m in \u001b[0;36m\u003cmodule\u003e\u001b[0;34m()\u001b[0m\n\u001b[1;32m     15\u001b[0m \u001b[0;31m# display(img)  # try it again in Python 3.7\u001b[0m\u001b[0;34m\u001b[0m\u001b[0;34m\u001b[0m\u001b[0m\n\u001b[1;32m     16\u001b[0m \u001b[0;32mprint\u001b[0m \u001b[0mos\u001b[0m\u001b[0;34m.\u001b[0m\u001b[0mgetcwd\u001b[0m\u001b[0;34m(\u001b[0m\u001b[0;34m)\u001b[0m\u001b[0;34m\u001b[0m\u001b[0m\n\u001b[0;32m---\u003e 17\u001b[0;31m \u001b[0mimg\u001b[0m\u001b[0;34m.\u001b[0m\u001b[0msave\u001b[0m\u001b[0;34m(\u001b[0m\u001b[0;34m\"images/gridmol.png\"\u001b[0m\u001b[0;34m)\u001b[0m  \u001b[0;31m# save the image to a file for the time being\u001b[0m\u001b[0;34m\u001b[0m\u001b[0m\n\u001b[0m",
            "\u001b[0;32m/home/thomas/.local/lib/python2.7/site-packages/PIL/Image.pyc\u001b[0m in \u001b[0;36msave\u001b[0;34m(self, fp, format, **params)\u001b[0m\n\u001b[1;32m   2002\u001b[0m                 \u001b[0;31m# Open also for reading (\"+\"), because TIFF save_all\u001b[0m\u001b[0;34m\u001b[0m\u001b[0;34m\u001b[0m\u001b[0m\n\u001b[1;32m   2003\u001b[0m                 \u001b[0;31m# writer needs to go back and edit the written data.\u001b[0m\u001b[0;34m\u001b[0m\u001b[0;34m\u001b[0m\u001b[0m\n\u001b[0;32m-\u003e 2004\u001b[0;31m                 \u001b[0mfp\u001b[0m \u001b[0;34m\u003d\u001b[0m \u001b[0mbuiltins\u001b[0m\u001b[0;34m.\u001b[0m\u001b[0mopen\u001b[0m\u001b[0;34m(\u001b[0m\u001b[0mfilename\u001b[0m\u001b[0;34m,\u001b[0m \u001b[0;34m\"w+b\"\u001b[0m\u001b[0;34m)\u001b[0m\u001b[0;34m\u001b[0m\u001b[0m\n\u001b[0m\u001b[1;32m   2005\u001b[0m \u001b[0;34m\u001b[0m\u001b[0m\n\u001b[1;32m   2006\u001b[0m         \u001b[0;32mtry\u001b[0m\u001b[0;34m:\u001b[0m\u001b[0;34m\u001b[0m\u001b[0m\n",
            "\u001b[0;31mIOError\u001b[0m: [Errno 2] No such file or directory: \u0027images/gridmol.png\u0027"
          ],
          "output_type": "error"
        }
      ],
      "source": "mols \u003d []\nfor mol in df[\u0027mol\u0027].values:\n    mol \u003d Chem.Mol(mol)\n    rdDepictor.Compute2DCoords\n    # rdCoordGen.AddCoords(mol)  # requires Python 3.7\n    # rescale(mol, f\u003d1.4)  # AddCoords seems to produced coordinates that are hard to display, so rescale them\n    mols.append(mol)\nlegends \u003d df[\u0027mol\u0027].keys()\nimg \u003d Draw.MolsToGridImage(mols, \n                    molsPerRow\u003dlen(legends),\n                    subImgSize\u003d(300, 300),\n                    legends\u003dlegends,\n                    useSVG\u003dFalse,   # set to True in Python 3.7\n                    )\n# display(img)  # try it again in Python 3.7\nprint(os.getcwd())\nimg.save(\"images/gridmol.png\")  # save the image to a file for the time being"
    },
    {
      "cell_type": "code",
      "execution_count": null,
      "metadata": {
        "pycharm": {}
      },
      "outputs": [],
      "source": "fp1 \u003d AllChem.GetMorganFingerprint(m1,radius\u003d3)\nfp2 \u003d AllChem.GetMorganFingerprint(m2,radius\u003d3)\nfp3 \u003d AllChem.GetMorganFingerprint(m3,radius\u003d3)\nprint(\"The ECFP fingeprint(similarity between m1 and m2 is %f\" % DataStructs.DiceSimilarity(fp1,fp2))\nprint(\"The ECFP fingeprint(similarity between m2 and m3 is %f\" % DataStructs.DiceSimilarity(fp2,fp3))\nprint(\"The ECFP fingeprint(similarity between m1 and m3 is %f\" % DataStructs.DiceSimilarity(fp1,fp3))"
    },
    {
      "cell_type": "markdown",
      "metadata": {
        "pycharm": {}
      },
      "source": "Morgan fingerprints, like atom pairs and topological torsions, use counts bm1y default, but it’s also possible to calculate them as bit vectors:"
    },
    {
      "cell_type": "code",
      "execution_count": 4,
      "metadata": {
        "pycharm": {}
      },
      "outputs": [
        {
          "name": "stdout",
          "output_type": "stream",
          "text": [
            "The ECFP fingeprint similarity between m1 and m2 is 0.480000\nThe ECFP fingeprint similarity between m2 and m3 is 0.555556\nThe ECFP fingeprint similarity between m1 and m3 is 0.248521\n"
          ]
        }
      ],
      "source": "fp1 \u003d AllChem.GetMorganFingerprintAsBitVect(m1,radius\u003d3,nBits\u003d4096)\nfp2 \u003d AllChem.GetMorganFingerprintAsBitVect(m2,radius\u003d3,nBits\u003d4096)\nfp3 \u003d AllChem.GetMorganFingerprintAsBitVect(m3,radius\u003d3,nBits\u003d4096)\nprint(\"The ECFP fingeprint(similarity between m1 and m2 is %f\" % DataStructs.DiceSimilarity(fp1,fp2))\nprint(\"The ECFP fingeprint(similarity between m2 and m3 is %f\" % DataStructs.DiceSimilarity(fp2,fp3))\nprint(\"The ECFP fingeprint(similarity between m1 and m3 is %f\" % DataStructs.DiceSimilarity(fp1,fp3))"
    },
    {
      "cell_type": "markdown",
      "metadata": {
        "pycharm": {}
      },
      "source": [
        "As you can see, the similarity changes slightly if you express them as bit vectors and can change further if you increase the nBits parameter which controls bit collisions.\n",
        "\n",
        "When comparing the ECFP/FCFP fingerprints and the Morgan fingerprints generated by the RDKit, remember that the 4 in ECFP4 corresponds to the diameter of the atom environments considered, while the Morgan fingerprints take a radius parameter. So the examples above, with radius\u003d2, are roughly equivalent to ECFP4 and FCFP4."
      ]
    },
    {
      "cell_type": "heading",
      "metadata": {
        "pycharm": {}
      },
      "level": 2,
      "source": [
        "Explaining bits from Morgan Fingerprints."
      ]
    }
  ],
  "metadata": {
    "kernelspec": {
      "display_name": "Python 2",
      "language": "python",
      "name": "python2"
    },
    "language_info": {
      "codemirror_mode": {
        "name": "ipython",
        "version": 2
      },
      "file_extension": ".py",
      "mimetype": "text/x-python",
      "name": "python",
      "nbconvert_exporter": "python",
      "pygments_lexer": "ipython2",
      "version": "2.7.6"
    }
  },
  "nbformat": 4,
  "nbformat_minor": 0
}